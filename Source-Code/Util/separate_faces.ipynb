{
 "cells": [
  {
   "cell_type": "code",
   "execution_count": 6,
   "metadata": {},
   "outputs": [],
   "source": [
    "from PIL import Image\n",
    "from os import makedirs\n",
    "# Load the concatenated image\n",
    "def slice_image(concatenated_image):\n",
    "    # Define dimensions\n",
    "    width, height = concatenated_image.size\n",
    "    slice_width = 384\n",
    "    num_slices = 15\n",
    "    print(concatenated_image.filename)\n",
    "    folder_name=concatenated_image.filename.split(\"/\")[2]\n",
    "    # print(folder_name)  # Replace \"concatenated_image.jpg\" with the path to your image\n",
    "    img_name=concatenated_image.filename.split(\"/\")[-1].split(\".\")[0]\n",
    "    # Iterate through the concatenated image and slice it\n",
    "    for i in range(num_slices):\n",
    "        # Calculate the starting point for slicing\n",
    "        start_x = i * slice_width\n",
    "\n",
    "        # Define the region to be sliced\n",
    "        box = (start_x, 0, start_x + slice_width, height)\n",
    "\n",
    "        # Slice the image\n",
    "        slice_image = concatenated_image.crop(box)\n",
    "\n",
    "        # Save the sliced image\n",
    "        makedirs(f\"separated/{folder_name}/{img_name}\", exist_ok=True)\n",
    "        slice_image.save(f\"separated/{folder_name}/{img_name}/slice_{i+1}.jpg\")  # Save each slice with a unique filename\n"
   ]
  },
  {
   "cell_type": "code",
   "execution_count": 7,
   "metadata": {},
   "outputs": [
    {
     "name": "stdout",
     "output_type": "stream",
     "text": [
      "donald_trump.jpg\n",
      "./Results/attr_gans/custom_testing/donald\\donald_trump.jpg\n",
      "./Results/attr_gans/custom_testing/donald\\donald_trump.jpg\n"
     ]
    }
   ],
   "source": [
    "import os\n",
    "image_dir = r'./Results/attr_gans/custom_testing/donald'\n",
    "# image_dir=r\"./Results/interfac_gan/yuriki/yurki\"\n",
    "# Get a list of all image files in the directory\n",
    "image_files = [file for file in os.listdir(image_dir) if file.endswith('.jpg') or file.endswith('.jpeg') or file.endswith('.png')]\n",
    "\n",
    "# Iterate through each image file\n",
    "for image_file in image_files:\n",
    "    # Construct the full path to the image file\n",
    "    print(image_file)\n",
    "    \n",
    "    image_path = os.path.join(image_dir, image_file)\n",
    "    print(image_path)\n",
    "    \n",
    "    # Process the image here\n",
    "    slice_image(Image.open(image_path))\n"
   ]
  },
  {
   "cell_type": "code",
   "execution_count": 32,
   "metadata": {},
   "outputs": [],
   "source": [
    "import os\n",
    "image_dir = './results_rafi/'\n",
    "\n",
    "# Get a list of all image files in the directory\n",
    "for folder in os.listdir(image_dir):\n",
    "    if not folder.startswith('.'):\n",
    "        image_files = [file for file in os.listdir(os.path.join(image_dir, folder)) if file.endswith('.jpg') or file.endswith('.jpeg') or file.endswith('.png')]\n",
    "        for image_file in image_files:\n",
    "            # Construct the full path to the image file\n",
    "            image_path = os.path.join(image_dir, folder, image_file)\n",
    "            \n",
    "            # Process the image here\n",
    "            slice_image(Image.open(image_path))\n",
    "# image_files = [file for file in os.listdir(image_dir) if file.endswith('.jpg') or file.endswith('.jpeg') or file.endswith('.png')]\n",
    "\n",
    "# # Iterate through each image file\n",
    "# for image_file in image_files:\n",
    "#     # Construct the full path to the image file\n",
    "#     image_path = os.path.join(image_dir, image_file)\n",
    "    \n",
    "#     # Process the image here\n",
    "#     slice_image(Image.open(image_path))\n"
   ]
  }
 ],
 "metadata": {
  "kernelspec": {
   "display_name": "Python 3",
   "language": "python",
   "name": "python3"
  },
  "language_info": {
   "codemirror_mode": {
    "name": "ipython",
    "version": 3
   },
   "file_extension": ".py",
   "mimetype": "text/x-python",
   "name": "python",
   "nbconvert_exporter": "python",
   "pygments_lexer": "ipython3",
   "version": "3.10.13"
  }
 },
 "nbformat": 4,
 "nbformat_minor": 2
}
