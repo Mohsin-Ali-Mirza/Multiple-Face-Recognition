{
 "cells": [
  {
   "cell_type": "code",
   "execution_count": 1,
   "metadata": {},
   "outputs": [
    {
     "name": "stdout",
     "output_type": "stream",
     "text": [
      "Requirement already satisfied: pillow in c:\\users\\k200353\\anaconda3\\envs\\facial_recognition_tf_cuda\\lib\\site-packages (10.0.0)\n",
      "Note: you may need to restart the kernel to use updated packages.\n"
     ]
    }
   ],
   "source": [
    "%pip install pillow"
   ]
  },
  {
   "cell_type": "code",
   "execution_count": 5,
   "metadata": {},
   "outputs": [],
   "source": [
    "import cv2\n",
    "import os\n",
    "\n",
    "def resize_images(input_path, output_path, width, height):\n",
    "  \"\"\"\n",
    "  Resizes all images in the input path and saves them as JPG images to the output path.\n",
    "\n",
    "  Args:\n",
    "      input_path: Path to the directory containing the images.\n",
    "      output_path: Path to the directory where the resized images will be saved.\n",
    "      width: Target width of the resized images.\n",
    "      height: Target height of the resized images.\n",
    "  \"\"\"\n",
    "  # Create output directory if it doesn't exist\n",
    "  os.makedirs(output_path, exist_ok=True)\n",
    "\n",
    "  for filename in os.listdir(input_path):\n",
    "    if filename.lower().endswith((\".jpg\", \".jpeg\", \".png\",\".webp\")):\n",
    "      # Read image\n",
    "      image = cv2.imread(os.path.join(input_path, filename))\n",
    "      \n",
    "      # Resize image\n",
    "      resized_image = cv2.resize(image, (width, height))\n",
    "\n",
    "      # Save resized image as JPG\n",
    "      cv2.imwrite(os.path.join(output_path, os.path.splitext(filename)[0] + \".jpg\"), resized_image)\n",
    "\n",
    "# Specify input and output paths, and desired image dimensions\n",
    "input_path = \"input_path\"\n",
    "output_path = \"output_path\"\n",
    "width =  900\n",
    "height =  900\n",
    "resize_images(input_path, output_path, width, height)"
   ]
  },
  {
   "cell_type": "code",
   "execution_count": 2,
   "metadata": {},
   "outputs": [],
   "source": [
    "import cv2\n",
    "import os\n",
    "\n",
    "def resize_images(input_path, output_path, width, height):\n",
    "  \"\"\"\n",
    "  Resizes all images in the input path and saves them to the output path.\n",
    "\n",
    "  Args:\n",
    "      input_path: Path to the directory containing the images.\n",
    "      output_path: Path to the directory where the resized images will be saved.\n",
    "      width: Target width of the resized images.\n",
    "      height: Target height of the resized images.\n",
    "  \"\"\"\n",
    "  # Create output directory if it doesn't exist\n",
    "  os.makedirs(output_path, exist_ok=True)\n",
    "\n",
    "  for filename in os.listdir(input_path):\n",
    "    if filename.lower().endswith((\".jpg\", \".jpeg\", \".png\")):\n",
    "      # Read image\n",
    "      image = cv2.imread(os.path.join(input_path, filename))\n",
    "      \n",
    "      # Resize image\n",
    "      resized_image = cv2.resize(image, (width, height))\n",
    "\n",
    "      # Save resized image\n",
    "      cv2.imwrite(os.path.join(output_path, filename), resized_image)\n",
    "\n",
    "# Specify input and output paths, and desired image dimensions\n",
    "input_path = \"input_path\"\n",
    "output_path = \"output_path\"\n",
    "width = 128\n",
    "height = 128\n",
    "\n",
    "resize_images(input_path, output_path, width, height)"
   ]
  },
  {
   "cell_type": "code",
   "execution_count": 16,
   "metadata": {},
   "outputs": [
    {
     "name": "stdout",
     "output_type": "stream",
     "text": [
      "Image resized successfully!\n"
     ]
    }
   ],
   "source": [
    "from PIL import Image\n",
    "\n",
    "def resize_image(input_path, output_path, width, height):\n",
    "    try:\n",
    "        # Open the image file\n",
    "        with Image.open(input_path) as img:\n",
    "            # Resize the image\n",
    "            resized_img = img.resize((width, height))\n",
    "            # Save the resized image to the output path\n",
    "            resized_img.save(output_path)\n",
    "            print(\"Image resized successfully!\")\n",
    "    except Exception as e:\n",
    "        print(\"Error:\", e)\n",
    "\n",
    "# Example usage:\n",
    "input_path = \"E:\\Mohsin\\AttGAN-PyTorch-master\\input_path\\man10.webp\"  # Change this to the path of your input image\n",
    "output_path = \"E:\\Mohsin\\AttGAN-PyTorch-master\\output_path\\man10.jpg\"  # Change this to the desired path for the resized image\n",
    "width =  300  # Change this to the desired width in pixels\n",
    "height = 300  # Change this to the desired height in pixels\n",
    "resize_image(input_path, output_path, width, height)\n"
   ]
  }
 ],
 "metadata": {
  "kernelspec": {
   "display_name": "attributeGan3",
   "language": "python",
   "name": "python3"
  },
  "language_info": {
   "codemirror_mode": {
    "name": "ipython",
    "version": 3
   },
   "file_extension": ".py",
   "mimetype": "text/x-python",
   "name": "python",
   "nbconvert_exporter": "python",
   "pygments_lexer": "ipython3",
   "version": "3.8.17"
  }
 },
 "nbformat": 4,
 "nbformat_minor": 2
}
